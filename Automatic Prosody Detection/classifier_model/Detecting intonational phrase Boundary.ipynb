{
 "cells": [
  {
   "cell_type": "markdown",
   "id": "df9c7939",
   "metadata": {},
   "source": [
    "# Read Data"
   ]
  },
  {
   "cell_type": "code",
   "execution_count": 1,
   "id": "3d4ef3d1",
   "metadata": {},
   "outputs": [
    {
     "name": "stdout",
     "output_type": "stream",
     "text": [
      "Defaulting to user installation because normal site-packages is not writeable\n",
      "Requirement already satisfied: matplotlib in /home/aaa470/.local/lib/python3.10/site-packages (3.7.2)\n",
      "Requirement already satisfied: contourpy>=1.0.1 in /home/aaa470/.local/lib/python3.10/site-packages (from matplotlib) (1.1.0)\n",
      "Requirement already satisfied: cycler>=0.10 in /home/aaa470/.local/lib/python3.10/site-packages (from matplotlib) (0.11.0)\n",
      "Requirement already satisfied: fonttools>=4.22.0 in /home/aaa470/.local/lib/python3.10/site-packages (from matplotlib) (4.41.1)\n",
      "Requirement already satisfied: kiwisolver>=1.0.1 in /home/aaa470/.local/lib/python3.10/site-packages (from matplotlib) (1.4.4)\n",
      "Requirement already satisfied: numpy>=1.20 in /home/aaa470/.local/lib/python3.10/site-packages (from matplotlib) (1.24.3)\n",
      "Requirement already satisfied: packaging>=20.0 in /usr/local/easybuild_allnodes/software/Python/3.10.8-GCCcore-12.2.0/lib/python3.10/site-packages (from matplotlib) (21.3)\n",
      "Requirement already satisfied: pillow>=6.2.0 in /home/aaa470/.local/lib/python3.10/site-packages (from matplotlib) (10.0.0)\n",
      "Requirement already satisfied: pyparsing<3.1,>=2.3.1 in /usr/local/easybuild_allnodes/software/Python/3.10.8-GCCcore-12.2.0/lib/python3.10/site-packages (from matplotlib) (3.0.9)\n",
      "Requirement already satisfied: python-dateutil>=2.7 in /usr/local/easybuild_allnodes/software/Python/3.10.8-GCCcore-12.2.0/lib/python3.10/site-packages (from matplotlib) (2.8.2)\n",
      "Requirement already satisfied: six>=1.5 in /usr/local/easybuild_allnodes/software/Python/3.10.8-GCCcore-12.2.0/lib/python3.10/site-packages (from python-dateutil>=2.7->matplotlib) (1.16.0)\n",
      "Defaulting to user installation because normal site-packages is not writeable\n",
      "Requirement already satisfied: seaborn in /home/aaa470/.local/lib/python3.10/site-packages (0.12.2)\n",
      "Requirement already satisfied: numpy!=1.24.0,>=1.17 in /home/aaa470/.local/lib/python3.10/site-packages (from seaborn) (1.24.3)\n",
      "Requirement already satisfied: pandas>=0.25 in /home/aaa470/.local/lib/python3.10/site-packages (from seaborn) (2.0.3)\n",
      "Requirement already satisfied: matplotlib!=3.6.1,>=3.1 in /home/aaa470/.local/lib/python3.10/site-packages (from seaborn) (3.7.2)\n",
      "Requirement already satisfied: contourpy>=1.0.1 in /home/aaa470/.local/lib/python3.10/site-packages (from matplotlib!=3.6.1,>=3.1->seaborn) (1.1.0)\n",
      "Requirement already satisfied: cycler>=0.10 in /home/aaa470/.local/lib/python3.10/site-packages (from matplotlib!=3.6.1,>=3.1->seaborn) (0.11.0)\n",
      "Requirement already satisfied: fonttools>=4.22.0 in /home/aaa470/.local/lib/python3.10/site-packages (from matplotlib!=3.6.1,>=3.1->seaborn) (4.41.1)\n",
      "Requirement already satisfied: kiwisolver>=1.0.1 in /home/aaa470/.local/lib/python3.10/site-packages (from matplotlib!=3.6.1,>=3.1->seaborn) (1.4.4)\n",
      "Requirement already satisfied: packaging>=20.0 in /usr/local/easybuild_allnodes/software/Python/3.10.8-GCCcore-12.2.0/lib/python3.10/site-packages (from matplotlib!=3.6.1,>=3.1->seaborn) (21.3)\n",
      "Requirement already satisfied: pillow>=6.2.0 in /home/aaa470/.local/lib/python3.10/site-packages (from matplotlib!=3.6.1,>=3.1->seaborn) (10.0.0)\n",
      "Requirement already satisfied: pyparsing<3.1,>=2.3.1 in /usr/local/easybuild_allnodes/software/Python/3.10.8-GCCcore-12.2.0/lib/python3.10/site-packages (from matplotlib!=3.6.1,>=3.1->seaborn) (3.0.9)\n",
      "Requirement already satisfied: python-dateutil>=2.7 in /usr/local/easybuild_allnodes/software/Python/3.10.8-GCCcore-12.2.0/lib/python3.10/site-packages (from matplotlib!=3.6.1,>=3.1->seaborn) (2.8.2)\n",
      "Requirement already satisfied: pytz>=2020.1 in /usr/local/easybuild_allnodes/software/Python/3.10.8-GCCcore-12.2.0/lib/python3.10/site-packages (from pandas>=0.25->seaborn) (2022.6)\n",
      "Requirement already satisfied: tzdata>=2022.1 in /home/aaa470/.local/lib/python3.10/site-packages (from pandas>=0.25->seaborn) (2023.3)\n",
      "Requirement already satisfied: six>=1.5 in /usr/local/easybuild_allnodes/software/Python/3.10.8-GCCcore-12.2.0/lib/python3.10/site-packages (from python-dateutil>=2.7->matplotlib!=3.6.1,>=3.1->seaborn) (1.16.0)\n",
      "Defaulting to user installation because normal site-packages is not writeable\n",
      "Requirement already satisfied: scikit-learn in /home/aaa470/.local/lib/python3.10/site-packages (1.3.0)\n",
      "Requirement already satisfied: numpy>=1.17.3 in /home/aaa470/.local/lib/python3.10/site-packages (from scikit-learn) (1.24.3)\n",
      "Requirement already satisfied: scipy>=1.5.0 in /home/aaa470/.local/lib/python3.10/site-packages (from scikit-learn) (1.11.1)\n",
      "Requirement already satisfied: joblib>=1.1.1 in /usr/local/easybuild_allnodes/software/Python/3.10.8-GCCcore-12.2.0/lib/python3.10/site-packages (from scikit-learn) (1.2.0)\n",
      "Requirement already satisfied: threadpoolctl>=2.0.0 in /usr/local/easybuild_allnodes/software/Python/3.10.8-GCCcore-12.2.0/lib/python3.10/site-packages (from scikit-learn) (3.1.0)\n"
     ]
    }
   ],
   "source": [
    "! pip install matplotlib\n",
    "! pip install seaborn\n",
    "! pip install scikit-learn\n",
    "\n",
    "import numpy as np \n",
    "import pandas as pd \n",
    "import matplotlib.pyplot as plt \n",
    "import seaborn as sns"
   ]
  },
  {
   "cell_type": "code",
   "execution_count": 2,
   "id": "dd9ef509",
   "metadata": {},
   "outputs": [
    {
     "data": {
      "text/html": [
       "<div>\n",
       "<style scoped>\n",
       "    .dataframe tbody tr th:only-of-type {\n",
       "        vertical-align: middle;\n",
       "    }\n",
       "\n",
       "    .dataframe tbody tr th {\n",
       "        vertical-align: top;\n",
       "    }\n",
       "\n",
       "    .dataframe thead th {\n",
       "        text-align: right;\n",
       "    }\n",
       "</style>\n",
       "<table border=\"1\" class=\"dataframe\">\n",
       "  <thead>\n",
       "    <tr style=\"text-align: right;\">\n",
       "      <th></th>\n",
       "      <th>Unnamed: 0</th>\n",
       "      <th>name</th>\n",
       "      <th>start_time</th>\n",
       "      <th>end_time</th>\n",
       "      <th>target</th>\n",
       "    </tr>\n",
       "  </thead>\n",
       "  <tbody>\n",
       "    <tr>\n",
       "      <th>0</th>\n",
       "      <td>0</td>\n",
       "      <td>M2BS24P3</td>\n",
       "      <td>0.2</td>\n",
       "      <td>1.2</td>\n",
       "      <td>0</td>\n",
       "    </tr>\n",
       "    <tr>\n",
       "      <th>1</th>\n",
       "      <td>1</td>\n",
       "      <td>M2BS24P3</td>\n",
       "      <td>1.4</td>\n",
       "      <td>2.4</td>\n",
       "      <td>0</td>\n",
       "    </tr>\n",
       "    <tr>\n",
       "      <th>2</th>\n",
       "      <td>2</td>\n",
       "      <td>M2BS24P3</td>\n",
       "      <td>2.6</td>\n",
       "      <td>3.6</td>\n",
       "      <td>0</td>\n",
       "    </tr>\n",
       "    <tr>\n",
       "      <th>3</th>\n",
       "      <td>3</td>\n",
       "      <td>M2BS24P3</td>\n",
       "      <td>3.8</td>\n",
       "      <td>4.8</td>\n",
       "      <td>1</td>\n",
       "    </tr>\n",
       "    <tr>\n",
       "      <th>4</th>\n",
       "      <td>4</td>\n",
       "      <td>M2BS24P3</td>\n",
       "      <td>5.0</td>\n",
       "      <td>6.0</td>\n",
       "      <td>0</td>\n",
       "    </tr>\n",
       "    <tr>\n",
       "      <th>...</th>\n",
       "      <td>...</td>\n",
       "      <td>...</td>\n",
       "      <td>...</td>\n",
       "      <td>...</td>\n",
       "      <td>...</td>\n",
       "    </tr>\n",
       "    <tr>\n",
       "      <th>19102</th>\n",
       "      <td>19102</td>\n",
       "      <td>F2BS02P5</td>\n",
       "      <td>27.8</td>\n",
       "      <td>28.8</td>\n",
       "      <td>1</td>\n",
       "    </tr>\n",
       "    <tr>\n",
       "      <th>19103</th>\n",
       "      <td>19103</td>\n",
       "      <td>F2BS02P5</td>\n",
       "      <td>29.0</td>\n",
       "      <td>30.0</td>\n",
       "      <td>0</td>\n",
       "    </tr>\n",
       "    <tr>\n",
       "      <th>19104</th>\n",
       "      <td>19104</td>\n",
       "      <td>F2BS02P5</td>\n",
       "      <td>30.2</td>\n",
       "      <td>31.2</td>\n",
       "      <td>0</td>\n",
       "    </tr>\n",
       "    <tr>\n",
       "      <th>19105</th>\n",
       "      <td>19105</td>\n",
       "      <td>F2BS02P5</td>\n",
       "      <td>31.4</td>\n",
       "      <td>32.4</td>\n",
       "      <td>1</td>\n",
       "    </tr>\n",
       "    <tr>\n",
       "      <th>19106</th>\n",
       "      <td>19106</td>\n",
       "      <td>F2BS02P5</td>\n",
       "      <td>32.6</td>\n",
       "      <td>33.6</td>\n",
       "      <td>1</td>\n",
       "    </tr>\n",
       "  </tbody>\n",
       "</table>\n",
       "<p>19107 rows × 5 columns</p>\n",
       "</div>"
      ],
      "text/plain": [
       "       Unnamed: 0      name  start_time  end_time  target\n",
       "0               0  M2BS24P3         0.2       1.2       0\n",
       "1               1  M2BS24P3         1.4       2.4       0\n",
       "2               2  M2BS24P3         2.6       3.6       0\n",
       "3               3  M2BS24P3         3.8       4.8       1\n",
       "4               4  M2BS24P3         5.0       6.0       0\n",
       "...           ...       ...         ...       ...     ...\n",
       "19102       19102  F2BS02P5        27.8      28.8       1\n",
       "19103       19103  F2BS02P5        29.0      30.0       0\n",
       "19104       19104  F2BS02P5        30.2      31.2       0\n",
       "19105       19105  F2BS02P5        31.4      32.4       1\n",
       "19106       19106  F2BS02P5        32.6      33.6       1\n",
       "\n",
       "[19107 rows x 5 columns]"
      ]
     },
     "execution_count": 2,
     "metadata": {},
     "output_type": "execute_result"
    }
   ],
   "source": [
    "data = pd.read_csv(r'/home/aaa470/gsoc/code/annotation.csv')\n",
    "data"
   ]
  },
  {
   "cell_type": "code",
   "execution_count": 3,
   "id": "37a0ba7d",
   "metadata": {},
   "outputs": [
    {
     "data": {
      "text/plain": [
       "target\n",
       "0    11239\n",
       "1     7868\n",
       "Name: count, dtype: int64"
      ]
     },
     "execution_count": 3,
     "metadata": {},
     "output_type": "execute_result"
    }
   ],
   "source": [
    "data['target'].value_counts()"
   ]
  },
  {
   "cell_type": "code",
   "execution_count": 4,
   "id": "062a2cfe",
   "metadata": {},
   "outputs": [],
   "source": [
    "import numpy as np\n",
    "\n",
    "# Load the saved .npz file\n",
    "num_data = np.load(\"all_frame_snippets.npz\", allow_pickle=True)\n",
    "\n",
    "# Retrieve the frame snippets and embeddings\n",
    "frame_snippets = num_data[\"frame_snippets\"]\n"
   ]
  },
  {
   "cell_type": "code",
   "execution_count": 5,
   "id": "1f642dca",
   "metadata": {},
   "outputs": [
    {
     "data": {
      "text/plain": [
       "{'name': 'M2BS24P3.wav',\n",
       " 'start_time': 0.2,\n",
       " 'end_time': 1.2,\n",
       " 'embeddings': array([[-4.2187799e-02,  2.4196939e-01,  3.3333007e-02, ...,\n",
       "         -8.5409455e-02, -2.5977384e-02, -3.6795463e-02],\n",
       "        [-4.1441415e-02,  2.3888399e-01,  3.1850282e-02, ...,\n",
       "         -7.1899995e-02, -3.1433553e-02, -3.8360741e-02],\n",
       "        [-9.4579525e-02, -5.6911781e-03,  1.4942250e-01, ...,\n",
       "          9.7062998e-02, -1.4417510e-01, -3.9152592e-02],\n",
       "        ...,\n",
       "        [-3.2114323e-02,  2.3110186e-01,  5.4990808e-03, ...,\n",
       "         -8.4011041e-02,  3.6408934e-03, -2.7097853e-02],\n",
       "        [-3.3829678e-02,  2.2495380e-01,  7.9835281e-03, ...,\n",
       "         -8.6970754e-02, -4.7619045e-03, -2.4850897e-02],\n",
       "        [-3.4508813e-02,  2.1230572e-01,  7.7835401e-03, ...,\n",
       "         -9.1179743e-02,  2.1480254e-04, -2.4080541e-02]], dtype=float32)}"
      ]
     },
     "execution_count": 5,
     "metadata": {},
     "output_type": "execute_result"
    }
   ],
   "source": [
    "frame_snippets[0]"
   ]
  },
  {
   "cell_type": "code",
   "execution_count": 6,
   "id": "c35dc035",
   "metadata": {},
   "outputs": [],
   "source": [
    "embeddings_list = [item['embeddings'] for item in frame_snippets]\n",
    "\n",
    "# Convert the list of arrays into a single array\n",
    "x = np.vstack(embeddings_list)"
   ]
  },
  {
   "cell_type": "code",
   "execution_count": 7,
   "id": "ae3e6331",
   "metadata": {},
   "outputs": [
    {
     "data": {
      "text/plain": [
       "array([[-4.2187799e-02,  2.4196939e-01,  3.3333007e-02, ...,\n",
       "        -8.5409455e-02, -2.5977384e-02, -3.6795463e-02],\n",
       "       [-4.1441415e-02,  2.3888399e-01,  3.1850282e-02, ...,\n",
       "        -7.1899995e-02, -3.1433553e-02, -3.8360741e-02],\n",
       "       [-9.4579525e-02, -5.6911781e-03,  1.4942250e-01, ...,\n",
       "         9.7062998e-02, -1.4417510e-01, -3.9152592e-02],\n",
       "       ...,\n",
       "       [-3.2114323e-02,  2.3110186e-01,  5.4990808e-03, ...,\n",
       "        -8.4011041e-02,  3.6408934e-03, -2.7097853e-02],\n",
       "       [-3.3829678e-02,  2.2495380e-01,  7.9835281e-03, ...,\n",
       "        -8.6970754e-02, -4.7619045e-03, -2.4850897e-02],\n",
       "       [-3.4508813e-02,  2.1230572e-01,  7.7835401e-03, ...,\n",
       "        -9.1179743e-02,  2.1480254e-04, -2.4080541e-02]], dtype=float32)"
      ]
     },
     "execution_count": 7,
     "metadata": {},
     "output_type": "execute_result"
    }
   ],
   "source": [
    "embeddings_list[0]"
   ]
  },
  {
   "cell_type": "markdown",
   "id": "3e000bca",
   "metadata": {},
   "source": [
    "# Split Data set into Train and test"
   ]
  },
  {
   "cell_type": "code",
   "execution_count": 8,
   "id": "c318363b",
   "metadata": {},
   "outputs": [],
   "source": [
    "x = []\n",
    "\n",
    "for i in range(0 , len(embeddings_list)):\n",
    "    x.append(embeddings_list[i])   "
   ]
  },
  {
   "cell_type": "code",
   "execution_count": 9,
   "id": "62bdb72c",
   "metadata": {},
   "outputs": [
    {
     "data": {
      "text/plain": [
       "array([[-4.2187799e-02,  2.4196939e-01,  3.3333007e-02, ...,\n",
       "        -8.5409455e-02, -2.5977384e-02, -3.6795463e-02],\n",
       "       [-4.1441415e-02,  2.3888399e-01,  3.1850282e-02, ...,\n",
       "        -7.1899995e-02, -3.1433553e-02, -3.8360741e-02],\n",
       "       [-9.4579525e-02, -5.6911781e-03,  1.4942250e-01, ...,\n",
       "         9.7062998e-02, -1.4417510e-01, -3.9152592e-02],\n",
       "       ...,\n",
       "       [-3.2114323e-02,  2.3110186e-01,  5.4990808e-03, ...,\n",
       "        -8.4011041e-02,  3.6408934e-03, -2.7097853e-02],\n",
       "       [-3.3829678e-02,  2.2495380e-01,  7.9835281e-03, ...,\n",
       "        -8.6970754e-02, -4.7619045e-03, -2.4850897e-02],\n",
       "       [-3.4508813e-02,  2.1230572e-01,  7.7835401e-03, ...,\n",
       "        -9.1179743e-02,  2.1480254e-04, -2.4080541e-02]], dtype=float32)"
      ]
     },
     "execution_count": 9,
     "metadata": {},
     "output_type": "execute_result"
    }
   ],
   "source": [
    "x[0]"
   ]
  },
  {
   "cell_type": "code",
   "execution_count": 10,
   "id": "310cf123",
   "metadata": {},
   "outputs": [
    {
     "name": "stderr",
     "output_type": "stream",
     "text": [
      "2023-08-08 12:00:41.162287: I tensorflow/tsl/cuda/cudart_stub.cc:28] Could not find cuda drivers on your machine, GPU will not be used.\n",
      "2023-08-08 12:00:41.212783: I tensorflow/tsl/cuda/cudart_stub.cc:28] Could not find cuda drivers on your machine, GPU will not be used.\n",
      "2023-08-08 12:00:41.214002: I tensorflow/core/platform/cpu_feature_guard.cc:182] This TensorFlow binary is optimized to use available CPU instructions in performance-critical operations.\n",
      "To enable the following instructions: AVX2 FMA, in other operations, rebuild TensorFlow with the appropriate compiler flags.\n",
      "2023-08-08 12:00:42.089324: W tensorflow/compiler/tf2tensorrt/utils/py_utils.cc:38] TF-TRT Warning: Could not find TensorRT\n"
     ]
    }
   ],
   "source": [
    "from tensorflow.keras.preprocessing.sequence import pad_sequences\n",
    "\n",
    "from sklearn.model_selection import train_test_split\n",
    "max_length = max(len(arr) for arr in x)\n",
    "padded_train_data = pad_sequences(x, maxlen=max_length, padding='post', dtype='float32')\n",
    "y = data['target']\n",
    "\n",
    "# Split padded_train_data into train and test sets\n",
    "train_data, test_data, train_labels, test_labels = train_test_split(padded_train_data, y, \n",
    "                                                                    test_size=0.2, random_state=42)\n"
   ]
  },
  {
   "cell_type": "code",
   "execution_count": 11,
   "id": "98d4eb7f",
   "metadata": {},
   "outputs": [
    {
     "data": {
      "text/plain": [
       "(15285, 3822, 15285, 3822)"
      ]
     },
     "execution_count": 11,
     "metadata": {},
     "output_type": "execute_result"
    }
   ],
   "source": [
    "len(train_data) , len(test_data) , len(train_labels) , len(test_labels)"
   ]
  },
  {
   "cell_type": "code",
   "execution_count": 12,
   "id": "fc0de176",
   "metadata": {},
   "outputs": [
    {
     "data": {
      "text/plain": [
       "numpy.ndarray"
      ]
     },
     "execution_count": 12,
     "metadata": {},
     "output_type": "execute_result"
    }
   ],
   "source": [
    "type(train_data)"
   ]
  },
  {
   "cell_type": "markdown",
   "id": "b78b6e15",
   "metadata": {},
   "source": [
    "# Build DL Model "
   ]
  },
  {
   "cell_type": "code",
   "execution_count": 13,
   "id": "1b71d5a5",
   "metadata": {},
   "outputs": [
    {
     "name": "stderr",
     "output_type": "stream",
     "text": [
      "2023-08-08 12:00:46.129040: W tensorflow/core/common_runtime/gpu/gpu_device.cc:1960] Cannot dlopen some GPU libraries. Please make sure the missing libraries mentioned above are installed properly if you would like to use GPU. Follow the guide at https://www.tensorflow.org/install/gpu for how to download and setup the required libraries for your platform.\n",
      "Skipping registering GPU devices...\n"
     ]
    }
   ],
   "source": [
    "\n",
    "from tensorflow.keras.models import Sequential \n",
    "from tensorflow.keras.layers import Dense , Dropout , BatchNormalization\n",
    "\n",
    "from tensorflow.keras.optimizers import Adam\n",
    "ad=Adam(learning_rate = 0.01 , beta_1=0.9,\n",
    "    beta_2=0.29,  epsilon=1e-03)"
   ]
  },
  {
   "cell_type": "code",
   "execution_count": 14,
   "id": "16336730",
   "metadata": {},
   "outputs": [
    {
     "name": "stdout",
     "output_type": "stream",
     "text": [
      "Model: \"sequential\"\n",
      "_________________________________________________________________\n",
      " Layer (type)                Output Shape              Param #   \n",
      "=================================================================\n",
      " dense (Dense)               (None, 49, 300)           307500    \n",
      "                                                                 \n",
      " batch_normalization (Batch  (None, 49, 300)           1200      \n",
      " Normalization)                                                  \n",
      "                                                                 \n",
      " dense_1 (Dense)             (None, 49, 200)           60200     \n",
      "                                                                 \n",
      " batch_normalization_1 (Bat  (None, 49, 200)           800       \n",
      " chNormalization)                                                \n",
      "                                                                 \n",
      " dense_2 (Dense)             (None, 49, 150)           30150     \n",
      "                                                                 \n",
      " batch_normalization_2 (Bat  (None, 49, 150)           600       \n",
      " chNormalization)                                                \n",
      "                                                                 \n",
      " dense_3 (Dense)             (None, 49, 100)           15100     \n",
      "                                                                 \n",
      " batch_normalization_3 (Bat  (None, 49, 100)           400       \n",
      " chNormalization)                                                \n",
      "                                                                 \n",
      " dense_4 (Dense)             (None, 49, 80)            8080      \n",
      "                                                                 \n",
      " batch_normalization_4 (Bat  (None, 49, 80)            320       \n",
      " chNormalization)                                                \n",
      "                                                                 \n",
      " dense_5 (Dense)             (None, 49, 20)            1620      \n",
      "                                                                 \n",
      " batch_normalization_5 (Bat  (None, 49, 20)            80        \n",
      " chNormalization)                                                \n",
      "                                                                 \n",
      " dense_6 (Dense)             (None, 49, 1)             21        \n",
      "                                                                 \n",
      "=================================================================\n",
      "Total params: 426071 (1.63 MB)\n",
      "Trainable params: 424371 (1.62 MB)\n",
      "Non-trainable params: 1700 (6.64 KB)\n",
      "_________________________________________________________________\n"
     ]
    }
   ],
   "source": [
    "model = Sequential()\n",
    "model.add(Dense(300, activation='relu', input_shape=(max_length, 1024)))\n",
    "model.add(BatchNormalization())\n",
    "\n",
    "#model.add(Dropout(0.5))  # Adding dropout for regularization\n",
    "model.add(Dense(200, activation='relu'))\n",
    "model.add(BatchNormalization())\n",
    "#model.add(Dropout(0.2))\n",
    "model.add(Dense(150, activation='relu'))\n",
    "model.add(BatchNormalization())\n",
    "\n",
    "model.add(Dense(100, activation='relu'))\n",
    "model.add(BatchNormalization())\n",
    "model.add(Dense(80, activation='relu'))\n",
    "model.add(BatchNormalization())\n",
    "\n",
    "model.add(Dense(20, activation='relu'))\n",
    "\n",
    "model.add(BatchNormalization())\n",
    "\n",
    "\n",
    "model.add(Dense(1, activation='sigmoid'))\n",
    "model.summary()\n",
    "\n"
   ]
  },
  {
   "cell_type": "code",
   "execution_count": 15,
   "id": "f9797d7f",
   "metadata": {},
   "outputs": [],
   "source": [
    "model.compile(loss = 'binary_crossentropy' , optimizer = 'adam' , metrics=['accuracy'])"
   ]
  },
  {
   "cell_type": "code",
   "execution_count": 16,
   "id": "8558d84b",
   "metadata": {},
   "outputs": [],
   "source": [
    "# Split padded_train_data into train and test sets\n",
    "train_data, x_val, train_labels, y_val = train_test_split(train_data, train_labels, test_size=0.2, random_state=42)  # Split the remaining data into training and validation\n"
   ]
  },
  {
   "cell_type": "code",
   "execution_count": 17,
   "id": "6d6bd867",
   "metadata": {},
   "outputs": [
    {
     "name": "stdout",
     "output_type": "stream",
     "text": [
      "Epoch 1/50\n",
      "192/192 [==============================] - 9s 32ms/step - loss: 0.6893 - accuracy: 0.5656 - val_loss: 0.6807 - val_accuracy: 0.5882\n",
      "Epoch 2/50\n",
      "192/192 [==============================] - 5s 28ms/step - loss: 0.6793 - accuracy: 0.5875 - val_loss: 0.6787 - val_accuracy: 0.5882\n",
      "Epoch 3/50\n",
      "192/192 [==============================] - 5s 28ms/step - loss: 0.6780 - accuracy: 0.5886 - val_loss: 0.6921 - val_accuracy: 0.5242\n",
      "Epoch 4/50\n",
      "192/192 [==============================] - 5s 28ms/step - loss: 0.6773 - accuracy: 0.5893 - val_loss: 0.6814 - val_accuracy: 0.5882\n",
      "Epoch 5/50\n",
      "192/192 [==============================] - 5s 28ms/step - loss: 0.6763 - accuracy: 0.5892 - val_loss: 0.6984 - val_accuracy: 0.5881\n",
      "Epoch 6/50\n",
      "192/192 [==============================] - 5s 28ms/step - loss: 0.6754 - accuracy: 0.5894 - val_loss: 0.7001 - val_accuracy: 0.5882\n",
      "Epoch 7/50\n",
      "192/192 [==============================] - 5s 28ms/step - loss: 0.6752 - accuracy: 0.5889 - val_loss: 0.7201 - val_accuracy: 0.5073\n",
      "Epoch 8/50\n",
      "192/192 [==============================] - 5s 28ms/step - loss: 0.6750 - accuracy: 0.5887 - val_loss: 0.6975 - val_accuracy: 0.5882\n",
      "Epoch 9/50\n",
      "192/192 [==============================] - 5s 28ms/step - loss: 0.6740 - accuracy: 0.5890 - val_loss: 0.6824 - val_accuracy: 0.5826\n",
      "Epoch 10/50\n",
      "192/192 [==============================] - 5s 28ms/step - loss: 0.6738 - accuracy: 0.5885 - val_loss: 0.7554 - val_accuracy: 0.5880\n",
      "Epoch 11/50\n",
      "192/192 [==============================] - 5s 28ms/step - loss: 0.6729 - accuracy: 0.5887 - val_loss: 0.8022 - val_accuracy: 0.5881\n",
      "Epoch 12/50\n",
      "192/192 [==============================] - 5s 28ms/step - loss: 0.6726 - accuracy: 0.5886 - val_loss: 0.7300 - val_accuracy: 0.5882\n",
      "Epoch 13/50\n",
      "192/192 [==============================] - 5s 28ms/step - loss: 0.6726 - accuracy: 0.5891 - val_loss: 0.9751 - val_accuracy: 0.5881\n",
      "Epoch 14/50\n",
      "192/192 [==============================] - 5s 28ms/step - loss: 0.6711 - accuracy: 0.5895 - val_loss: 1.9481 - val_accuracy: 0.5881\n",
      "Epoch 15/50\n",
      "192/192 [==============================] - 5s 28ms/step - loss: 0.6714 - accuracy: 0.5891 - val_loss: 0.6947 - val_accuracy: 0.5882\n",
      "Epoch 16/50\n",
      "192/192 [==============================] - 5s 28ms/step - loss: 0.6708 - accuracy: 0.5879 - val_loss: 1.2658 - val_accuracy: 0.5873\n",
      "Epoch 17/50\n",
      "192/192 [==============================] - 5s 28ms/step - loss: 0.6714 - accuracy: 0.5891 - val_loss: 1.4139 - val_accuracy: 0.5875\n",
      "Epoch 18/50\n",
      "192/192 [==============================] - 5s 28ms/step - loss: 0.6703 - accuracy: 0.5896 - val_loss: 0.8417 - val_accuracy: 0.4522\n",
      "Epoch 19/50\n",
      "192/192 [==============================] - 5s 28ms/step - loss: 0.6704 - accuracy: 0.5894 - val_loss: 0.6834 - val_accuracy: 0.5752\n",
      "Epoch 20/50\n",
      "192/192 [==============================] - 5s 28ms/step - loss: 0.6696 - accuracy: 0.5898 - val_loss: 0.6853 - val_accuracy: 0.5617\n",
      "Epoch 21/50\n",
      "192/192 [==============================] - 5s 28ms/step - loss: 0.6699 - accuracy: 0.5888 - val_loss: 0.6811 - val_accuracy: 0.5788\n",
      "Epoch 22/50\n",
      "192/192 [==============================] - 5s 28ms/step - loss: 0.6695 - accuracy: 0.5894 - val_loss: 0.8314 - val_accuracy: 0.4495\n",
      "Epoch 23/50\n",
      "192/192 [==============================] - 5s 28ms/step - loss: 0.6695 - accuracy: 0.5899 - val_loss: 0.7151 - val_accuracy: 0.4778\n",
      "Epoch 24/50\n",
      "192/192 [==============================] - 5s 28ms/step - loss: 0.6692 - accuracy: 0.5887 - val_loss: 4.1874 - val_accuracy: 0.5880\n",
      "Epoch 25/50\n",
      "192/192 [==============================] - 5s 28ms/step - loss: 0.6688 - accuracy: 0.5905 - val_loss: 0.9073 - val_accuracy: 0.5880\n",
      "Epoch 26/50\n",
      "192/192 [==============================] - 5s 28ms/step - loss: 0.6688 - accuracy: 0.5901 - val_loss: 0.6859 - val_accuracy: 0.5822\n",
      "Epoch 27/50\n",
      "192/192 [==============================] - 5s 28ms/step - loss: 0.6680 - accuracy: 0.5898 - val_loss: 0.7984 - val_accuracy: 0.5860\n",
      "Epoch 28/50\n",
      "192/192 [==============================] - 5s 28ms/step - loss: 0.6681 - accuracy: 0.5904 - val_loss: 0.8192 - val_accuracy: 0.5812\n",
      "Epoch 29/50\n",
      "192/192 [==============================] - 5s 28ms/step - loss: 0.6683 - accuracy: 0.5889 - val_loss: 0.6988 - val_accuracy: 0.5211\n",
      "Epoch 30/50\n",
      "192/192 [==============================] - 5s 28ms/step - loss: 0.6673 - accuracy: 0.5898 - val_loss: 0.7242 - val_accuracy: 0.4584\n",
      "Epoch 31/50\n",
      "192/192 [==============================] - 5s 28ms/step - loss: 0.6671 - accuracy: 0.5904 - val_loss: 1.0841 - val_accuracy: 0.5837\n",
      "Epoch 32/50\n",
      "192/192 [==============================] - 5s 28ms/step - loss: 0.6671 - accuracy: 0.5907 - val_loss: 1.6235 - val_accuracy: 0.5838\n",
      "Epoch 33/50\n",
      "192/192 [==============================] - 5s 28ms/step - loss: 0.6669 - accuracy: 0.5902 - val_loss: 1.0444 - val_accuracy: 0.5843\n",
      "Epoch 34/50\n",
      "192/192 [==============================] - 5s 28ms/step - loss: 0.6673 - accuracy: 0.5904 - val_loss: 0.7930 - val_accuracy: 0.5880\n",
      "Epoch 35/50\n",
      "192/192 [==============================] - 5s 28ms/step - loss: 0.6668 - accuracy: 0.5901 - val_loss: 0.6784 - val_accuracy: 0.5863\n",
      "Epoch 36/50\n",
      "192/192 [==============================] - 5s 28ms/step - loss: 0.6656 - accuracy: 0.5913 - val_loss: 0.9037 - val_accuracy: 0.5870\n",
      "Epoch 37/50\n",
      "192/192 [==============================] - 5s 28ms/step - loss: 0.6661 - accuracy: 0.5912 - val_loss: 1.4173 - val_accuracy: 0.5875\n",
      "Epoch 38/50\n",
      "192/192 [==============================] - 5s 28ms/step - loss: 0.6655 - accuracy: 0.5929 - val_loss: 0.7549 - val_accuracy: 0.5846\n",
      "Epoch 39/50\n",
      "192/192 [==============================] - 5s 28ms/step - loss: 0.6656 - accuracy: 0.5922 - val_loss: 0.7596 - val_accuracy: 0.5857\n",
      "Epoch 40/50\n",
      "192/192 [==============================] - 5s 28ms/step - loss: 0.6652 - accuracy: 0.5921 - val_loss: 2.2011 - val_accuracy: 0.5832\n",
      "Epoch 41/50\n",
      "192/192 [==============================] - 5s 28ms/step - loss: 0.6657 - accuracy: 0.5914 - val_loss: 0.7511 - val_accuracy: 0.5881\n",
      "Epoch 42/50\n",
      "192/192 [==============================] - 5s 28ms/step - loss: 0.6648 - accuracy: 0.5931 - val_loss: 0.6786 - val_accuracy: 0.5878\n",
      "Epoch 43/50\n",
      "192/192 [==============================] - 5s 28ms/step - loss: 0.6650 - accuracy: 0.5919 - val_loss: 1.5104 - val_accuracy: 0.5876\n",
      "Epoch 44/50\n",
      "192/192 [==============================] - 5s 28ms/step - loss: 0.6642 - accuracy: 0.5923 - val_loss: 5.6411 - val_accuracy: 0.5881\n",
      "Epoch 45/50\n",
      "192/192 [==============================] - 5s 28ms/step - loss: 0.6643 - accuracy: 0.5938 - val_loss: 0.6797 - val_accuracy: 0.5856\n",
      "Epoch 46/50\n",
      "192/192 [==============================] - 5s 28ms/step - loss: 0.6635 - accuracy: 0.5939 - val_loss: 0.7178 - val_accuracy: 0.5877\n",
      "Epoch 47/50\n",
      "192/192 [==============================] - 5s 28ms/step - loss: 0.6645 - accuracy: 0.5925 - val_loss: 0.7049 - val_accuracy: 0.5281\n",
      "Epoch 48/50\n",
      "192/192 [==============================] - 5s 28ms/step - loss: 0.6647 - accuracy: 0.5928 - val_loss: 0.6826 - val_accuracy: 0.5577\n",
      "Epoch 49/50\n",
      "192/192 [==============================] - 5s 28ms/step - loss: 0.6635 - accuracy: 0.5944 - val_loss: 0.6862 - val_accuracy: 0.5544\n",
      "Epoch 50/50\n",
      "192/192 [==============================] - 5s 28ms/step - loss: 0.6635 - accuracy: 0.5945 - val_loss: 0.7788 - val_accuracy: 0.5880\n"
     ]
    }
   ],
   "source": [
    "history = model.fit(train_data, train_labels, validation_data=(x_val, y_val), batch_size=64, epochs=50)\n"
   ]
  },
  {
   "cell_type": "code",
   "execution_count": 18,
   "id": "3c9d26db",
   "metadata": {},
   "outputs": [
    {
     "name": "stdout",
     "output_type": "stream",
     "text": [
      "120/120 [==============================] - 1s 6ms/step\n",
      "[[0]\n",
      " [0]\n",
      " [0]\n",
      " ...\n",
      " [0]\n",
      " [1]\n",
      " [0]]\n"
     ]
    }
   ],
   "source": [
    "y_pred = model.predict(test_data)\n",
    "\n",
    "y_pred_binary = np.argmax(y_pred, axis=1)\n",
    "y_pred_binary = np.where(y_pred_binary == 1, 1, 0)  # Convert 1 to 1, and 0 to 0\n",
    "\n",
    "print(y_pred_binary)\n"
   ]
  },
  {
   "cell_type": "markdown",
   "id": "8dddca45",
   "metadata": {},
   "source": [
    "model.evaluate( test_labels , y_pred )"
   ]
  },
  {
   "cell_type": "code",
   "execution_count": 19,
   "id": "c37e00bc",
   "metadata": {},
   "outputs": [
    {
     "data": {
      "image/png": "[encoded data removed]",
      "text/plain": [
       "<Figure size 1000x500 with 1 Axes>"
      ]
     },
     "metadata": {},
     "output_type": "display_data"
    }
   ],
   "source": [
    "import matplotlib.pyplot as plt\n",
    "\n",
    "# Generating indices for the x-axis\n",
    "indices = list(range(len(test_labels[:100])))\n",
    "plt.figure(figsize = (10,5))\n",
    "plt.plot(indices, test_labels[:100], label='Actual')\n",
    "plt.plot(indices, y_pred_binary[:100], label='Predicted')\n",
    "plt.xlabel('Index')\n",
    "plt.ylabel('Class')\n",
    "plt.title('Binary Classification Results')\n",
    "plt.legend()\n",
    "plt.xticks(indices)\n",
    "plt.show()\n",
    "\n"
   ]
  },
  {
   "cell_type": "code",
   "execution_count": 25,
   "id": "52fa58b3",
   "metadata": {},
   "outputs": [
    {
     "data": {
      "text/plain": [
       "target\n",
       "0    2227\n",
       "1    1595\n",
       "Name: count, dtype: int64"
      ]
     },
     "execution_count": 25,
     "metadata": {},
     "output_type": "execute_result"
    }
   ],
   "source": [
    "test_labels.value_counts()"
   ]
  },
  {
   "cell_type": "code",
   "execution_count": 27,
   "id": "a1e4358a",
   "metadata": {},
   "outputs": [
    {
     "name": "stdout",
     "output_type": "stream",
     "text": [
      "[[2188 1576]\n",
      " [  39   19]]\n",
      "accuracy_score :  0.5774\n",
      "recall_score :  0.3276\n",
      "precision_score :  0.0119\n",
      "f1_score :  0.023\n",
      "specificity : 0.9825\n"
     ]
    }
   ],
   "source": [
    "from sklearn.metrics import accuracy_score,recall_score,precision_score,f1_score,confusion_matrix\n",
    "\n",
    "\n",
    "print(confusion_matrix(y_pred_binary, test_labels))\n",
    "\n",
    "tn, fp, fn, tp = confusion_matrix(test_labels, y_pred_binary).ravel()\n",
    "\n",
    "specificity_tra = round(tn / (tn+fp) , 4)\n",
    "acc_tra=round(accuracy_score(y_pred_binary,test_labels),4)\n",
    "rec_tra = round(recall_score(y_pred_binary,test_labels),4)\n",
    "pre_tra= round(precision_score(y_pred_binary,test_labels),4)\n",
    "f1_tra=round(f1_score(y_pred_binary,test_labels) , 4)\n",
    "\n",
    "print(\"accuracy_score : \" , acc_tra)\n",
    "print(\"recall_score : \" ,rec_tra)\n",
    "print(\"precision_score : \",pre_tra)\n",
    "print(\"f1_score : \" ,f1_tra)\n",
    "print(\"specificity :\", specificity_tra)\n"
   ]
  }
 ],
 "metadata": {
  "kernelspec": {
   "display_name": "Python 3 (ipykernel)",
   "language": "python",
   "name": "python3"
  },
  "language_info": {
   "codemirror_mode": {
    "name": "ipython",
    "version": 3
   },
   "file_extension": ".py",
   "mimetype": "text/x-python",
   "name": "python",
   "nbconvert_exporter": "python",
   "pygments_lexer": "ipython3",
   "version": "3.10.8"
  }
 },
 "nbformat": 4,
 "nbformat_minor": 5
}
