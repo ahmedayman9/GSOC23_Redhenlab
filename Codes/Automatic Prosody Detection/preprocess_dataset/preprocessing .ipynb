{
 "cells": [
  {
   "cell_type": "markdown",
   "id": "d3d68e57",
   "metadata": {},
   "source": [
    "# Extract zip files \n"
   ]
  },
  {
   "cell_type": "code",
   "execution_count": null,
   "id": "267537f5",
   "metadata": {},
   "outputs": [],
   "source": [
    "import os\n",
    "import zipfile\n",
    "\n",
    "def extract_zip_files(source_folder, destination_folder):\n",
    "    # Create the destination folder if it doesn't exist\n",
    "    if not os.path.exists(destination_folder):\n",
    "        os.makedirs(destination_folder)\n",
    "\n",
    "    # Get a list of all files in the source folder\n",
    "    file_list = os.listdir(source_folder)\n",
    "\n",
    "    # Loop through the files and extract zip files\n",
    "    for file_name in file_list:\n",
    "        full_path = os.path.join(source_folder, file_name)\n",
    "        \n",
    "        # Check if the item is a file and ends with '.zip'\n",
    "        if os.path.isfile(full_path) and file_name.lower().endswith('.zip'):\n",
    "            with zipfile.ZipFile(full_path, 'r') as zip_ref:\n",
    "                zip_ref.extractall(destination_folder)\n",
    "            print(f\"Extracted {file_name} to {destination_folder}\")\n",
    "\n",
    "# Replace the paths with your actual source and destination folder paths\n",
    "source_folder = '/home/aaa470/Dataset/wav'\n",
    "destination_folder = '/home/aaa470/Dataset/wav_files'\n",
    "\n",
    "extract_zip_files(source_folder, destination_folder)\n"
   ]
  },
  {
   "cell_type": "markdown",
   "id": "9c120f1e",
   "metadata": {},
   "source": [
    "# Convert .SPH and .SPN to .wav audio files \n"
   ]
  },
  {
   "cell_type": "code",
   "execution_count": 4,
   "id": "d7a4fb93",
   "metadata": {},
   "outputs": [],
   "source": [
    "import soundfile as sf\n",
    "import os\n",
    "\n",
    "input_folder = \"/Users/ahmed/Desktop/some records /M2B\"\n",
    "output_folder = \"/Users/ahmed/Desktop/wav\"\n",
    "\n",
    "# Create the output folder if it doesn't exist\n",
    "if not os.path.exists(output_folder):\n",
    "    os.makedirs(output_folder)\n",
    "\n",
    "# Iterate through .sph and .spn files and convert them to .wav\n",
    "for file_name in os.listdir(input_folder):\n",
    "    if file_name.endswith((\".SPH\", \".SPN\")):\n",
    "        input_path = os.path.join(input_folder, file_name)\n",
    "        output_path = os.path.join(output_folder, file_name.replace(\".SPH\", \".wav\").replace(\".SPN\", \".wav\"))\n",
    "        data, samplerate = sf.read(input_path)\n",
    "        sf.write(output_path, data, samplerate)\n"
   ]
  },
  {
   "cell_type": "code",
   "execution_count": null,
   "id": "1a7bc586",
   "metadata": {},
   "outputs": [],
   "source": []
  }
 ],
 "metadata": {
  "kernelspec": {
   "display_name": "Python 3 (ipykernel)",
   "language": "python",
   "name": "python3"
  },
  "language_info": {
   "codemirror_mode": {
    "name": "ipython",
    "version": 3
   },
   "file_extension": ".py",
   "mimetype": "text/x-python",
   "name": "python",
   "nbconvert_exporter": "python",
   "pygments_lexer": "ipython3",
   "version": "3.10.8"
  }
 },
 "nbformat": 4,
 "nbformat_minor": 5
}
